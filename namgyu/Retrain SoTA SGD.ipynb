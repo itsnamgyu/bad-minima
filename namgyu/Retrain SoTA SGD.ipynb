{
 "cells": [
  {
   "cell_type": "code",
   "execution_count": null,
   "id": "762ff12f",
   "metadata": {},
   "outputs": [],
   "source": [
    "from torchvision import models\n",
    "from namgyu.retrain import retrain_all_sgd_tricks"
   ]
  },
  {
   "cell_type": "code",
   "execution_count": null,
   "id": "ebf751bb",
   "metadata": {},
   "outputs": [],
   "source": [
    "model = models.resnet50(num_classes=10)"
   ]
  },
  {
   "cell_type": "code",
   "execution_count": null,
   "id": "d27a92c6",
   "metadata": {},
   "outputs": [],
   "source": [
    "retrain_all_sgd_tricks(model, \"cifar10\", epochs=50)"
   ]
  },
  {
   "cell_type": "code",
   "execution_count": null,
   "id": "583c486a",
   "metadata": {},
   "outputs": [],
   "source": []
  }
 ],
 "metadata": {
  "kernelspec": {
   "display_name": "Python 3",
   "language": "python",
   "name": "python3"
  },
  "language_info": {
   "codemirror_mode": {
    "name": "ipython",
    "version": 3
   },
   "file_extension": ".py",
   "mimetype": "text/x-python",
   "name": "python",
   "nbconvert_exporter": "python",
   "pygments_lexer": "ipython3",
   "version": "3.7.3"
  }
 },
 "nbformat": 4,
 "nbformat_minor": 5
}
